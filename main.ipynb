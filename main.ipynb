{
 "cells": [
  {
   "cell_type": "code",
   "execution_count": 1,
   "id": "2d221f0b",
   "metadata": {},
   "outputs": [],
   "source": [
    "import os\n",
    "import sys\n",
    "from datetime import datetime, timedelta"
   ]
  },
  {
   "cell_type": "code",
   "execution_count": 2,
   "id": "2830975b",
   "metadata": {},
   "outputs": [],
   "source": [
    "from utils.fetch_html_content import fetch_tradingview_news, load_config\n",
    "from utils.news_processor import NewsProcessor\n",
    "from utils.database import init_db # Import init_db to ensure it's called"
   ]
  },
  {
   "cell_type": "code",
   "execution_count": 3,
   "id": "2cf55cde",
   "metadata": {},
   "outputs": [],
   "source": [
    "SYMBOL = 'GOOGL'  # Example symbol\n",
    "TARGET_DATE = \"2025-08-08\"\n",
    "WINDOW_DAYS = 1"
   ]
  },
  {
   "cell_type": "code",
   "execution_count": null,
   "id": "66b00b4d",
   "metadata": {},
   "outputs": [
    {
     "name": "stdout",
     "output_type": "stream",
     "text": [
      "Database initialized and table 'news' ensured in news_data.db\n",
      "Database initialized and table 'news' ensured in news_data.db\n"
     ]
    }
   ],
   "source": [
    "init_db()\n",
    "processor = NewsProcessor()"
   ]
  },
  {
   "cell_type": "code",
   "execution_count": 5,
   "id": "803e0b73",
   "metadata": {},
   "outputs": [
    {
     "name": "stdout",
     "output_type": "stream",
     "text": [
      "Fetching news for symbol: GOOGL on date: 2025-08-08 for 1 day(s)\n"
     ]
    }
   ],
   "source": [
    "# Load configuration\n",
    "config = load_config()\n",
    "news_config = config.get('news', {})\n",
    "\n",
    "# symbol = news_config.get('default_symbol', 'TSLA')\n",
    "# target_date_str = news_config.get('default_date', datetime.now().strftime('%Y-%m-%d'))\n",
    "# window_days = news_config.get('window_days', 1)\n",
    "\n",
    "print(f\"Fetching news for symbol: {SYMBOL} on date: {TARGET_DATE} for {WINDOW_DAYS} day(s)\")\n",
    "\n"
   ]
  },
  {
   "cell_type": "code",
   "execution_count": 6,
   "id": "35eb1a33",
   "metadata": {},
   "outputs": [
    {
     "name": "stdout",
     "output_type": "stream",
     "text": [
      "2025-08-08 09:30:00 2025-08-09 09:30:00\n",
      "Fetching Pinterest Stock Gets Multiple Price Target Hikes. Shares Tumble on Earnings Miss. — Barrons.com\n",
      "\n",
      "Fetching Apple Stock Had a Strong Week. How It Can Keep the Momentum Going. — Barrons.com\n",
      "\n"
     ]
    }
   ],
   "source": [
    "news_data = fetch_tradingview_news(SYMBOL, target_date=TARGET_DATE, window=WINDOW_DAYS)\n"
   ]
  },
  {
   "cell_type": "code",
   "execution_count": 7,
   "id": "a9680172",
   "metadata": {},
   "outputs": [
    {
     "name": "stdout",
     "output_type": "stream",
     "text": [
      "Saved 2 new news items to the database.\n",
      "Found 2 news items to summarize.\n",
      "Updated summary for news ID: 19\n",
      "Updated summary for news ID: 20\n"
     ]
    }
   ],
   "source": [
    "# process the fetched news\n",
    "processor.process_and_summarize_news(news_data)"
   ]
  },
  {
   "cell_type": "code",
   "execution_count": 8,
   "id": "4fe1d9f6",
   "metadata": {},
   "outputs": [
    {
     "name": "stdout",
     "output_type": "stream",
     "text": [
      "Generating daily report for 2025-08-08 (Symbol: GOOGL)\n"
     ]
    }
   ],
   "source": [
    "# generate the daily report\n",
    "daily_report = processor.create_daily_report(TARGET_DATE, SYMBOL)"
   ]
  },
  {
   "cell_type": "code",
   "execution_count": 9,
   "id": "86121049",
   "metadata": {},
   "outputs": [
    {
     "name": "stdout",
     "output_type": "stream",
     "text": [
      "**Daily Financial News Report**  \n",
      "**Date: [Today's Date]**  \n",
      "\n",
      "### **Key Trends & Highlights**  \n",
      "\n",
      "1. **Pinterest’s Mixed Signals: Earnings Miss but Upgraded Targets**  \n",
      "   - **Performance:** Pinterest (PINS) shares fell **8%** after Q2 earnings missed estimates (**33¢ vs. 35¢ EPS**), driven by reduced ad spending from Asian retailers due to tariff changes.  \n",
      "   - **Bullish Analysts:** Despite the drop, major firms (**Wedbush, BofA, Monness Crespi**) raised price targets (**$44–$46**) citing strong revenue growth, AI advancements, and geographic diversification.  \n",
      "   - **Outlook:** Long-term optimism persists for ad efficiency and shopping features. YTD stock gains (**+24%**) outpace the S&P 500.  \n",
      "\n",
      "2. **Apple’s Momentum: AI and Domestic Investment Drive Confidence**  \n",
      "   - **Recent Wins:** Apple (AAPL) beat Q3 earnings and announced a **$100B U.S. investment plan**, fueling stock gains and analyst upgrades.  \n",
      "   - **AI Strategy:** Wedbush suggests acquisitions (e.g., Perplexity AI), deeper Google Gemini integration, and AI talent hires to bolster competitiveness.  \n",
      "   - **Supply Chain Reshoring:** Melius Research highlights U.S. manufacturing as a tailwind, reducing tariff risks and supporting the upcoming iPhone cycle.  \n",
      "   - **Targets:** Wedbush maintains **$270 target**; Melius raised to **$260**.  \n",
      "\n",
      "### **Market Takeaway**  \n",
      "- **Tech Resilience:** While Pinterest’s short-term dip reflects ad market volatility, analyst confidence in its AI and e-commerce potential suggests upside.  \n",
      "- **Apple’s Dual Play:** Strategic AI investments and supply chain localization could sustain its rally, positioning it for robust hardware and software synergies.  \n",
      "\n",
      "**Watchlist:** PINS (for AI-driven recovery), AAPL (AI and supply chain catalysts).  \n",
      "\n",
      "*—Your Financial Analyst Team*\n"
     ]
    }
   ],
   "source": [
    "print(daily_report)"
   ]
  }
 ],
 "metadata": {
  "kernelspec": {
   "display_name": "base",
   "language": "python",
   "name": "python3"
  },
  "language_info": {
   "codemirror_mode": {
    "name": "ipython",
    "version": 3
   },
   "file_extension": ".py",
   "mimetype": "text/x-python",
   "name": "python",
   "nbconvert_exporter": "python",
   "pygments_lexer": "ipython3",
   "version": "3.12.4"
  }
 },
 "nbformat": 4,
 "nbformat_minor": 5
}
