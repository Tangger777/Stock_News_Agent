{
 "cells": [
  {
   "cell_type": "code",
   "execution_count": 1,
   "id": "2d221f0b",
   "metadata": {},
   "outputs": [],
   "source": [
    "import os\n",
    "import sys\n",
    "from datetime import datetime, timedelta"
   ]
  },
  {
   "cell_type": "code",
   "execution_count": 2,
   "id": "2830975b",
   "metadata": {},
   "outputs": [],
   "source": [
    "from utils.fetch_html_content import fetch_tradingview_news, load_config\n",
    "from utils.news_processor import NewsProcessor\n",
    "from utils.database import init_db # Import init_db to ensure it's called"
   ]
  },
  {
   "cell_type": "code",
   "execution_count": null,
   "id": "2cf55cde",
   "metadata": {},
   "outputs": [],
   "source": [
    "SYMBOL = 'TSLA'  # Example symbol\n",
    "TARGET_DATE = \"2025-08-08\"\n",
    "WINDOW_DAYS = 1"
   ]
  },
  {
   "cell_type": "code",
   "execution_count": null,
   "id": "66b00b4d",
   "metadata": {},
   "outputs": [
    {
     "name": "stdout",
     "output_type": "stream",
     "text": [
      "Database initialized and table 'news' ensured in news_data.db\n"
     ]
    }
   ],
   "source": [
    "init_db()\n",
    "processor = NewsProcessor()"
   ]
  },
  {
   "cell_type": "code",
   "execution_count": null,
   "id": "803e0b73",
   "metadata": {},
   "outputs": [
    {
     "name": "stdout",
     "output_type": "stream",
     "text": [
      "Fetching news for symbol: NVDA on date: 2025-08-07 for 1 day(s)\n"
     ]
    }
   ],
   "source": [
    "# Load configuration\n",
    "config = load_config()\n",
    "news_config = config.get('news', {})\n",
    "\n",
    "symbol = news_config.get('default_symbol', 'TSLA')\n",
    "target_date_str = news_config.get('default_date', datetime.now().strftime('%Y-%m-%d'))\n",
    "window_days = news_config.get('window_days', 1)\n",
    "\n",
    "print(f\"Fetching news for symbol: {symbol} on date: {target_date_str} for {window_days} day(s)\")\n",
    "\n"
   ]
  },
  {
   "cell_type": "code",
   "execution_count": 8,
   "id": "35eb1a33",
   "metadata": {},
   "outputs": [
    {
     "name": "stdout",
     "output_type": "stream",
     "text": [
      "2025-08-08 09:30:00 2025-08-09 09:30:00\n",
      "Fetching Tesla Secures Texas Rideshare Permit For Robotaxi Operation - Bloomberg News\n",
      "\n",
      "Warning: Could not parse embedded JSON. Falling back to HTML tag parsing.\n",
      "Fetching Investors in Tesla, Inc. (TSLA): Protect Your Rights - Contact Levi & Korsinsky Before October 3, 2025\n",
      "\n",
      "Fetching Nvidia Stock Is Set for Another New High. 2 Reasons for the Rally. — Barrons.com\n",
      "\n",
      "Fetching Tesla Stock Brushes Off Dojo Brain Drain. Don't Panic. — Barrons.com\n",
      "\n",
      "Fetching Before Intel, which CEOs drew Trump's ire?\n",
      "\n",
      "Fetching China's Car Sales Growth Slows as Price War Cools\n",
      "\n",
      "Fetching Ex-Tesla engineer who sued Musk for defamation says arbitrator was biased\n",
      "\n"
     ]
    }
   ],
   "source": [
    "news_data = fetch_tradingview_news('TSLA', target_date='2025-08-08', window=1)\n"
   ]
  },
  {
   "cell_type": "code",
   "execution_count": 9,
   "id": "a9680172",
   "metadata": {},
   "outputs": [
    {
     "name": "stdout",
     "output_type": "stream",
     "text": [
      "Saved 7 new news items to the database.\n",
      "Found 7 news items to summarize.\n",
      "Updated summary for news ID: 12\n",
      "Updated summary for news ID: 13\n",
      "Updated summary for news ID: 14\n",
      "Updated summary for news ID: 15\n",
      "Updated summary for news ID: 16\n",
      "Updated summary for news ID: 17\n",
      "Updated summary for news ID: 18\n"
     ]
    }
   ],
   "source": [
    "# process the fetched news\n",
    "processor.process_and_summarize_news(news_data)"
   ]
  },
  {
   "cell_type": "code",
   "execution_count": 10,
   "id": "4fe1d9f6",
   "metadata": {},
   "outputs": [
    {
     "name": "stdout",
     "output_type": "stream",
     "text": [
      "Generating daily report for 2025-08-08 (Symbol: TSLA)\n"
     ]
    }
   ],
   "source": [
    "# generate the daily report\n",
    "daily_report = processor.create_daily_report(\"2025-08-08\", 'TSLA')"
   ]
  },
  {
   "cell_type": "code",
   "execution_count": 11,
   "id": "86121049",
   "metadata": {},
   "outputs": [
    {
     "name": "stdout",
     "output_type": "stream",
     "text": [
      "### **Daily Financial News Report – August 19, 2025**  \n",
      "\n",
      "#### **Key Highlights**  \n",
      "1. **Tesla Advances Robotaxi Plans in Texas**  \n",
      "   - Tesla secured a rideshare permit in Texas, marking a step toward deploying autonomous robotaxis. The move aligns with its push into AI-driven mobility services. Texas’s favorable regulations and existing Tesla infrastructure make it a strategic testing ground.  \n",
      "\n",
      "2. **Tesla Faces Shareholder Lawsuit Over Autonomous Tech Claims**  \n",
      "   - A class-action lawsuit alleges Tesla misled investors about its self-driving technology risks between 2023–2025. Investors are urged to contact Levi & Korsinsky before the October 2025 deadline. The case adds to Tesla’s legal challenges tied to its Autopilot and Full Self-Driving systems.  \n",
      "\n",
      "3. **Nvidia Hits Record High on AI Momentum**  \n",
      "   - Nvidia’s stock surged, fueled by OpenAI’s GPT-5 launch (citing Nvidia as a partner) and Tesla’s pivot to rely on Nvidia/AMD for AI chips instead of in-house development. Shares rose 0.8%, with analysts bullish on its dominance in AI training hardware.  \n",
      "\n",
      "4. **Tesla’s Stock Recovers After Dojo Team Shakeup**  \n",
      "   - Despite the departure of Dojo AI chief Peter Bannon, Tesla’s stock climbed 1.8%. Elon Musk confirmed a shift toward inference-optimized chips (AI5/AI6), downplaying Dojo’s role. Analysts remain split on Tesla’s AI strategy, but Morgan Stanley values its potential at $500B.  \n",
      "\n",
      "5. **Trump’s CEO Feuds: From Musk to Intel**  \n",
      "   - President Trump’s criticism of Intel’s CEO over China ties mirrors past clashes with corporate leaders, including Tesla’s Musk (on subsidies) and Apple’s Cook (on tariffs). The pattern reflects Trump’s confrontational stance on business policies.  \n",
      "\n",
      "6. **China’s EV Growth Cools as Price Wars Ease**  \n",
      "   - July passenger car sales grew just 6.3% YoY, down from June’s 18%, as government interventions tempered price cuts. EV sales rose 12%, but Tesla’s China deliveries fell 8.4%. Exports surged, with NEV shipments more than doubling.  \n",
      "\n",
      "7. **Ex-Tesla Engineer Alleges Bias in Musk Defamation Case**  \n",
      "   - Cristina Balan challenges a 2021 arbitration loss, claiming the arbitrator favored Tesla in a “repeat player” conflict. The case, set for August 19, tests fairness in corporate arbitration—a recurring issue for Tesla.  \n",
      "\n",
      "#### **Market Sentiment**  \n",
      "- **Tesla**: Mixed reactions to robotaxis (bullish) vs. legal and leadership concerns (bearish).  \n",
      "- **Nvidia**: Unstoppable AI demand drives record highs; Tesla’s reliance bolsters its position.  \n",
      "- **China EV Market**: Slower growth signals a maturing sector, with Tesla losing ground domestically.  \n",
      "\n",
      "#### **Watch This Week**  \n",
      "- Tesla’s AI chip strategy post-Dojo.  \n",
      "- Nvidia’s performance amid AI boom.  \n",
      "- China’s August auto sales and tariff impacts.  \n",
      "\n",
      "*Stay tuned for further updates.* 🚀\n"
     ]
    }
   ],
   "source": [
    "print(daily_report)"
   ]
  }
 ],
 "metadata": {
  "kernelspec": {
   "display_name": "base",
   "language": "python",
   "name": "python3"
  },
  "language_info": {
   "codemirror_mode": {
    "name": "ipython",
    "version": 3
   },
   "file_extension": ".py",
   "mimetype": "text/x-python",
   "name": "python",
   "nbconvert_exporter": "python",
   "pygments_lexer": "ipython3",
   "version": "3.12.4"
  }
 },
 "nbformat": 4,
 "nbformat_minor": 5
}
